{
 "cells": [
  {
   "cell_type": "code",
   "execution_count": 13,
   "outputs": [],
   "source": [
    "from enum import Enum\n",
    "import numpy as np\n",
    "from matplotlib.image import imread\n",
    "from matplotlib.pyplot import imshow\n",
    "from matplotlib.image import imsave"
   ],
   "metadata": {
    "collapsed": false
   }
  },
  {
   "cell_type": "code",
   "execution_count": 10,
   "outputs": [],
   "source": [
    "class ColorModel(Enum):\n",
    "    rgb = 0\n",
    "    hsv = 1\n",
    "    hsi = 2\n",
    "    hsl = 3\n",
    "    gray = 4  # obraz 2d"
   ],
   "metadata": {
    "collapsed": false
   }
  },
  {
   "cell_type": "code",
   "execution_count": 15,
   "outputs": [],
   "source": [
    "class BaseImage:\n",
    "    data: np.ndarray  # tensor przechowujacy piksele obrazu\n",
    "    color_model: ColorModel  # atrybut przechowujacy biezacy model barw obrazu\n",
    "\n",
    "    def __init__(self, path: str) -> None:\n",
    "        self.data = imread(path)\n",
    "        pass\n",
    "\n",
    "    def save_img(self, path: str) -> None:\n",
    "        self.data = imsave('image.jpg', path)\n",
    "        pass\n",
    "\n",
    "    def show_img(self) -> None:\n",
    "        self.data = imshow()\n",
    "        pass\n",
    "\n",
    "    def get_layer(self, layer_id: int) -> 'BaseImage':\n",
    "        \"\"\"\n",
    "        metoda zwracajaca warstwe o wskazanym indeksie\n",
    "        \"\"\"\n",
    "        pass\n",
    "\n",
    "    def to_hsv(self) -> 'BaseImage':\n",
    "        \"\"\"\n",
    "        metoda dokonujaca konwersji obrazu w atrybucie data do modelu hsv\n",
    "        metoda zwraca nowy obiekt klasy image zawierajacy obraz w docelowym modelu barw\n",
    "        \"\"\"\n",
    "        pass\n",
    "\n",
    "    def to_hsi(self) -> 'BaseImage':\n",
    "        \"\"\"\n",
    "        metoda dokonujaca konwersji obrazu w atrybucie data do modelu hsi\n",
    "        metoda zwraca nowy obiekt klasy image zawierajacy obraz w docelowym modelu barw\n",
    "        \"\"\"\n",
    "        pass\n",
    "\n",
    "    def to_hsl(self) -> 'BaseImage':\n",
    "        \"\"\"\n",
    "        metoda dokonujaca konwersji obrazu w atrybucie data do modelu hsl\n",
    "        metoda zwraca nowy obiekt klasy image zawierajacy obraz w docelowym modelu barw\n",
    "        \"\"\"\n",
    "        pass\n",
    "\n",
    "    def to_rgb(self) -> 'BaseImage':\n",
    "        \"\"\"\n",
    "        metoda dokonujaca konwersji obrazu w atrybucie data do modelu rgb\n",
    "        metoda zwraca nowy obiekt klasy image zawierajacy obraz w docelowym modelu barw\n",
    "        \"\"\"\n",
    "        pass"
   ],
   "metadata": {
    "collapsed": false
   }
  },
  {
   "cell_type": "code",
   "execution_count": 16,
   "outputs": [],
   "source": [
    "lena = BaseImage('lena.jpg')"
   ],
   "metadata": {
    "collapsed": false
   }
  },
  {
   "cell_type": "code",
   "execution_count": null,
   "outputs": [],
   "source": [],
   "metadata": {
    "collapsed": false
   }
  }
 ],
 "metadata": {
  "kernelspec": {
   "display_name": "Python 3",
   "language": "python",
   "name": "python3"
  },
  "language_info": {
   "codemirror_mode": {
    "name": "ipython",
    "version": 2
   },
   "file_extension": ".py",
   "mimetype": "text/x-python",
   "name": "python",
   "nbconvert_exporter": "python",
   "pygments_lexer": "ipython2",
   "version": "2.7.6"
  }
 },
 "nbformat": 4,
 "nbformat_minor": 0
}
